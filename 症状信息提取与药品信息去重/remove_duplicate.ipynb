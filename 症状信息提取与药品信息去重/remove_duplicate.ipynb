{
 "cells": [
  {
   "cell_type": "code",
   "execution_count": 2,
   "metadata": {},
   "outputs": [],
   "source": [
    "import xlrd\n",
    "import xlwt\n",
    "from xlutils.copy import copy"
   ]
  },
  {
   "cell_type": "code",
   "execution_count": 3,
   "metadata": {},
   "outputs": [],
   "source": [
    "medicine_map = {\n",
    "\t\"门冬胰岛素注射液\" : \"诺和锐\",\n",
    "\t\"门冬胰岛素30注射液\" : \"诺和锐30\",\n",
    "\t\"精蛋白锌重组赖脯胰岛素混合注射液（50R）\" : \"优泌乐50\",\n",
    "\t\"生物合成人胰岛素\" : \"诺和灵R\",\n",
    "\t\"精蛋白生物合成人胰岛素注射液（预混30R）\" : \"诺和灵30R\",\n",
    "\t\"精蛋白生物合成人胰岛素注射液（预混50R）\" : \"诺和灵50R\",\n",
    "\t\"精蛋白生物合成人胰岛素注射液\": \"诺和灵N\",\n",
    "\t\"甘精胰岛素注射液\" : \"来得时\",\n",
    "\t\"地特胰岛素注射液\" : \"诺和平\",\n",
    "\t\"艾塞那肽注射液\" : \"百泌达\",\n",
    "\t\"利拉鲁肽注射液\" : \"诺和力\",\n",
    "\t\"格列吡嗪缓释片\" : \"秦苏\",\n",
    "\t\"格列喹酮片\" : \"糖适平\",\n",
    "\t\"格列美脲片\" : \"亚莫利\",\n",
    "\t\"那格列奈片\" : \"唐力\",\n",
    "\t\"瑞格列奈片\" : \"诺和龙\",\n",
    "\t\"格列齐特片\" : \"达美康缓释\",\n",
    "\t\"格列吡嗪控释片\" : \"瑞易宁\",\n",
    "\t\"拜唐苹片\" : \"阿卡波糖\",\n",
    "\t\"盐酸二甲双胍片\" : \"格华止\",\n",
    "\t\"磷酸西格列汀片\" : \"捷诺维\",\n",
    "\t\"沙格列汀片\" : \"安立泽\",\n",
    "\t\"维格列汀片\" : \"佳维乐\",\n",
    "\t\"达格列净片\" : \"安达唐\",\n",
    "\t\"恩格列净片\" : \"欧唐静\",\n",
    "\t\"德谷胰岛素\" : \"诺和达\",\n",
    "\t\"利司那肽注射液\" : \"利时敏\"\n",
    "}\n"
   ]
  },
  {
   "cell_type": "code",
   "execution_count": 4,
   "metadata": {},
   "outputs": [
    {
     "name": "stdout",
     "output_type": "stream",
     "text": [
      "64\n"
     ]
    }
   ],
   "source": [
    "work_book = xlrd.open_workbook(\"test.xls\")\n",
    "sheet = work_book.sheet_by_index(0)\n",
    "\n",
    "write_book = copy(work_book)\n",
    "write_sheet = write_book.get_sheet(0)\n",
    "\n",
    "tot = 0\n",
    "\n",
    "for i in range(1, sheet.nrows):\n",
    "\tstr = sheet.cell_value(i, 3)\n",
    "\tmedicine_list = str.split(\",\")\n",
    "\tfor j in range(len(medicine_list)):\n",
    "\t\tif (medicine_list[j] in medicine_map):\n",
    "\t\t\tmedicine_list[j] = medicine_map[medicine_list[j]]\n",
    "\t\t\ttot = tot + 1\n",
    "\tres_list = [i for n, i in enumerate(medicine_list) if i not in medicine_list[:n]]\n",
    "\tres_str = \",\".join(res_list)\n",
    "\twrite_sheet.write(i, 3, res_str)\n",
    "\n",
    "write_book.save(\"test_final.xls\")\n",
    "print(tot)"
   ]
  }
 ],
 "metadata": {
  "kernelspec": {
   "display_name": "base",
   "language": "python",
   "name": "python3"
  },
  "language_info": {
   "codemirror_mode": {
    "name": "ipython",
    "version": 3
   },
   "file_extension": ".py",
   "mimetype": "text/x-python",
   "name": "python",
   "nbconvert_exporter": "python",
   "pygments_lexer": "ipython3",
   "version": "3.9.16"
  },
  "orig_nbformat": 4
 },
 "nbformat": 4,
 "nbformat_minor": 2
}
