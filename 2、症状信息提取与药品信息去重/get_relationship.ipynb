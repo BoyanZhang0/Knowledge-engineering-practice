{
 "cells": [
  {
   "cell_type": "code",
   "execution_count": 54,
   "metadata": {},
   "outputs": [],
   "source": [
    "import xlrd\n",
    "import xlwt\n",
    "from xlutils.copy import copy\n"
   ]
  },
  {
   "cell_type": "code",
   "execution_count": 55,
   "metadata": {},
   "outputs": [
    {
     "name": "stdout",
     "output_type": "stream",
     "text": [
      "28610\n",
      "21340\n",
      "3436\n",
      "53386\n",
      "3677\n",
      "416\n",
      "3436\n",
      "3\n"
     ]
    }
   ],
   "source": [
    "work_book = xlrd.open_workbook(\"data_dup_removed.xls\")\n",
    "sheet = work_book.sheet_by_index(0)\n",
    "write_book = xlwt.Workbook(encoding=\"utf-8\")\n",
    "write_sheet = write_book.add_sheet(\"Sheet1\")\n",
    "tot = 0\n",
    "tot_symptom_list = []\n",
    "tot_medicine_list = []\n",
    "tot_id_list = []\n",
    "tot_gender_list = []\n",
    "\n",
    "for i in range(1, sheet.nrows):\n",
    "\tpatient_id, gender, symptoms, medicines= sheet.row_values(i)\n",
    "\t#print(patient_id, gender, symptoms, medicines)\n",
    "\tif symptoms == \"\" or medicines == \"\":\n",
    "\t\tcontinue\n",
    "\tsymptom_list = symptoms.split(\",\")\n",
    "\tmedicine_list = medicines.split(\",\")\n",
    "\tif len(symptom_list) == 1:\n",
    "\t\tsymptom_list = symptoms.split(\"、\")\n",
    "\tif len(medicine_list) == 1:\n",
    "\t\tmedicine_list = medicines.split(\"、\")\n",
    "\tsymptom_list = [s.strip().replace(\"(\", \"（\").replace(\")\", \"）\").replace(\"%\", \"\").replace(\":\",\"\") for s in symptom_list]\n",
    "\tmedicine_list = [m.strip().replace(\"(\", \"（\").replace(\")\", \"）\").replace(\"%\", \"\").replace(\":\",\"\") for m in medicine_list]\n",
    "\tsymptom_list = [s for s in symptom_list if s != \"\"]\n",
    "\tmedicine_list = [m for m in medicine_list if m != \"\"]\n",
    "\ttot_symptom_list.extend(symptom_list)\n",
    "\ttot_medicine_list.extend(medicine_list)\n",
    "\ttot_id_list.append(patient_id)\n",
    "\ttot_gender_list.append(gender)\n",
    "\tpatient_id = int(patient_id)\n",
    "\twrite_sheet.write(tot, 0, f\"spo_{tot + 1:0=7}\")\n",
    "\twrite_sheet.write(tot, 1, patient_id)\n",
    "\twrite_sheet.write(tot, 2, \"性别\")\n",
    "\twrite_sheet.write(tot, 3, gender)\n",
    "\twrite_sheet.write(tot, 4, f\"ind_{gender}\")\n",
    "\ttot += 1\n",
    "\tfor symptom in symptom_list:\n",
    "\t\twrite_sheet.write(tot, 0, f\"spo_{tot + 1:0=7}\")\n",
    "\t\twrite_sheet.write(tot, 1, patient_id)\n",
    "\t\twrite_sheet.write(tot, 2, \"出院诊断\")\n",
    "\t\twrite_sheet.write(tot, 3, symptom)\n",
    "\t\twrite_sheet.write(tot, 4, f\"ind_{symptom}\")\n",
    "\t\ttot += 1\n",
    "\t\n",
    "\tfor medicine in medicine_list:\n",
    "\t\twrite_sheet.write(tot, 0, f\"spo_{tot + 1:0=7}\")\n",
    "\t\twrite_sheet.write(tot, 1, patient_id)\n",
    "\t\twrite_sheet.write(tot, 2, \"出院带药\")\n",
    "\t\twrite_sheet.write(tot, 3, medicine)\n",
    "\t\twrite_sheet.write(tot, 4, f\"ind_{medicine}\")\n",
    "\t\ttot += 1\n",
    "\n",
    "print(len(tot_symptom_list))\n",
    "print(len(tot_medicine_list))\n",
    "print(len(tot_id_list))\n",
    "tot_symptom_list = list(set(tot_symptom_list))\n",
    "tot_medicine_list = list(set(tot_medicine_list))\n",
    "tot_gender_list = list(set(tot_gender_list))\n",
    "print(tot)\n",
    "print(len(tot_symptom_list))\n",
    "print(len(tot_medicine_list))\n",
    "print(len(tot_id_list))\n",
    "print(len(tot_gender_list))\n",
    "\n",
    "#write_book.save(\"relationships.xls\")"
   ]
  },
  {
   "cell_type": "code",
   "execution_count": 56,
   "metadata": {},
   "outputs": [],
   "source": [
    "classinfo_sheet = write_book.add_sheet(\"Sheet2\")\n",
    "classinfo_sheet.write(0, 0, \"ID\")\n",
    "classinfo_sheet.write(0, 3, \"症状\")\n",
    "classinfo_sheet.write(0, 6, \"药品\")\n",
    "classinfo_sheet.write(0, 9, \"病人性别\")\n",
    "for i in range(len(tot_id_list)):\n",
    "\tclassinfo_sheet.write(i, 1, tot_id_list[i])\n",
    "\tclassinfo_sheet.write(i, 2, f\"ind_{int(tot_id_list[i])}\")\n",
    "for i in range(len(tot_symptom_list)):\n",
    "\tclassinfo_sheet.write(i, 4, tot_symptom_list[i])\n",
    "\tclassinfo_sheet.write(i, 5, f\"ind_{tot_symptom_list[i]}\")\n",
    "for i in range(len(tot_medicine_list)):\n",
    "\tclassinfo_sheet.write(i, 7, tot_medicine_list[i])\n",
    "\tclassinfo_sheet.write(i, 8, f\"ind_{tot_medicine_list[i]}\")\n",
    "for i in range(len(tot_gender_list)):\n",
    "\tclassinfo_sheet.write(i, 10, tot_gender_list[i])\n",
    "\tclassinfo_sheet.write(i, 11, f\"ind_{tot_gender_list[i]}\")"
   ]
  },
  {
   "cell_type": "code",
   "execution_count": 57,
   "metadata": {},
   "outputs": [],
   "source": [
    "write_book.save(\"relationships.xls\")"
   ]
  }
 ],
 "metadata": {
  "kernelspec": {
   "display_name": "Python 3 (ipykernel)",
   "language": "python",
   "name": "python3"
  },
  "language_info": {
   "codemirror_mode": {
    "name": "ipython",
    "version": 3
   },
   "file_extension": ".py",
   "mimetype": "text/x-python",
   "name": "python",
   "nbconvert_exporter": "python",
   "pygments_lexer": "ipython3",
   "version": "3.9.13"
  }
 },
 "nbformat": 4,
 "nbformat_minor": 2
}
